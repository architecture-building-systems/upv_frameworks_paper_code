{
 "cells": [
  {
   "cell_type": "code",
   "execution_count": 34,
   "metadata": {},
   "outputs": [
    {
     "name": "stdout",
     "output_type": "stream",
     "text": [
      "The autoreload extension is already loaded. To reload it, use:\n",
      "  %reload_ext autoreload\n"
     ]
    }
   ],
   "source": [
    "%load_ext autoreload\n",
    "%autoreload 2"
   ]
  },
  {
   "cell_type": "code",
   "execution_count": 2,
   "metadata": {},
   "outputs": [],
   "source": [
    "import os\n",
    "import proplot as pplt\n",
    "import pandas as pd\n",
    "import numpy as np\n",
    "import grid_points as gp\n",
    "import shading_masks as sm\n",
    "import sys\n",
    "import cv2\n",
    "module_path = \"/Users/jmccarty/Data/221205_ipv_workbench/github/IPV_Workbench\"\n",
    "sys.path.insert(0, module_path)\n",
    "# import workbench\n",
    "from workbench.utilities import io\n",
    "from workbench.manage import manage\n",
    "from workbench.manage import host\n",
    "# from workbench.workflows import workflows\n",
    "# from workbench.simulations import method_iv_solver, method_topology_solver, method_module_iv\n",
    "# from workbench.visualize import plots as ipv_plot\n",
    "# from workbench.device import temperature"
   ]
  },
  {
   "cell_type": "code",
   "execution_count": 3,
   "metadata": {},
   "outputs": [
    {
     "name": "stdout",
     "output_type": "stream",
     "text": [
      "Destination file already exists, copy aborted./n/Users/jmccarty/Nextcloud/Projects/17_framework/cactus_framework_study/inputs/shared/tmy/base.epw\n",
      "Destination file already exists, copy aborted./n/Users/jmccarty/Nextcloud/Projects/17_framework/cactus_framework_study/inputs/hosts/B1111/base/geometry/0_cactus_geometry_template.3dm\n",
      "Destination file already exists, copy aborted./n/Users/jmccarty/Nextcloud/Projects/17_framework/cactus_framework_study/inputs/hosts/B1111/base/geometry/0_cactus_geometry_template.gh\n",
      "Destination file already exists, copy aborted./n/Users/jmccarty/Nextcloud/Projects/17_framework/cactus_framework_study/inputs/hosts/B1111/base/geometry/1_cactus_panelizer_template.gh\n",
      "The project is initialized. We have created a base host object named 'B1111'.\n",
      "You will need to either move or create the geometry and panelizer files into the appropriate directories.\n",
      "The geometry files should follow the convention defined in the output of the template grasshopper and rhino files.\n",
      "The panelizer files are those that have been created using the grasshopper utility. The Panelizer is\n",
      "not ready for a pure python implementation as of yet.\n",
      "D020\n",
      "D020\n"
     ]
    }
   ],
   "source": [
    "# because we have restarted our notebook we will reactivate our project by reading in the config path\n",
    "# place your config path here\n",
    "config_path = \"/Users/jmccarty/Nextcloud/Projects/17_framework/cactus_framework_study/cactus_framework_study.config\"\n",
    "project_manager = manage.Project(config_path)\n",
    "\n",
    "# rerun the setup in order to rebuild the entire project object and its attributes\n",
    "project_manager.project_setup()\n",
    "\n",
    "# set the analysis period to 1 hour of the year, it does not matter which hour\n",
    "project_manager.edit_cfg_file(\"analysis\", \"analysis_period\", \"10-11\")\n",
    "\n",
    "\n",
    "print(project_manager.analysis_device_id)\n",
    "project_manager.edit_cfg_file(\"analysis\", \"analysis_period\", \"4332-4333\")\n",
    "print(project_manager.analysis_device_id)\n",
    "\n",
    "# load building\n",
    "radiance_surface_key = \"1111_0\"\n",
    "building = host.Host(project_manager)\n",
    "sensor_pts_xyz_arr = io.load_grid_file(building.project, radiance_surface_key)[['X', 'Y', 'Z']].values\n"
   ]
  },
  {
   "cell_type": "code",
   "execution_count": 4,
   "metadata": {},
   "outputs": [],
   "source": [
    "module_ctr_points = []\n",
    "surface = \"{1111;0}\"\n",
    "for module in building.get_modules(\"{1111;0}\"):\n",
    "    module_ctr_points.append(building.get_dict_instance([surface, module])['Details']['panelizer_center_pt'])\n",
    "\n",
    "module_ctr_points = np.array(module_ctr_points)\n"
   ]
  },
  {
   "cell_type": "code",
   "execution_count": 9,
   "metadata": {},
   "outputs": [],
   "source": [
    "min_x = pd.DataFrame(sensor_pts_xyz_arr)[0].min()\n",
    "max_x = pd.DataFrame(sensor_pts_xyz_arr)[0].max()\n",
    "min_z = pd.DataFrame(sensor_pts_xyz_arr)[2].min()\n",
    "max_z = pd.DataFrame(sensor_pts_xyz_arr)[2].max()\n",
    "\n",
    "x_dim = max_x - min_x\n",
    "y_dim = max_z - min_z"
   ]
  },
  {
   "cell_type": "markdown",
   "metadata": {},
   "source": [
    "# Grids"
   ]
  },
  {
   "cell_type": "code",
   "execution_count": 39,
   "metadata": {},
   "outputs": [
    {
     "name": "stdout",
     "output_type": "stream",
     "text": [
      "a1 1\n",
      "a2 12\n",
      "a3 100\n",
      "a4 100\n",
      "b1 84\n",
      "b2 5040\n",
      "b1 84\n",
      "b2 5040\n"
     ]
    }
   ],
   "source": [
    "grid_codes = ['a1','a2','a3','a4','b1','b2','c1','c2']\n",
    "for og_grid_code in grid_codes:\n",
    "    if og_grid_code[0] == \"c\":\n",
    "        grid_code = \"b\" + str(og_grid_code[1])\n",
    "    else:\n",
    "        grid_code = og_grid_code\n",
    "    pts = gp.generate_grid_points(sensor_pts_xyz_arr, grid_code, building,\n",
    "                                        radiance_surface_key)\n",
    "    \n",
    "    print(grid_code,pts.shape[0])"
   ]
  },
  {
   "cell_type": "code",
   "execution_count": null,
   "metadata": {},
   "outputs": [],
   "source": [
    "grid_codes = ['a1','a2','a3','a4','b1','b2','c1','c2']\n",
    "cell_dim = .035\n",
    "\n",
    "min_x = pd.DataFrame(sensor_pts_xyz_arr)[0].min()\n",
    "max_x = pd.DataFrame(sensor_pts_xyz_arr)[0].max()\n",
    "min_z = pd.DataFrame(sensor_pts_xyz_arr)[2].min()\n",
    "max_z = pd.DataFrame(sensor_pts_xyz_arr)[2].max()\n",
    "\n",
    "x_dim = max_x - min_x\n",
    "y_dim = max_z - min_z\n",
    "\n",
    "for og_grid_code in grid_codes:\n",
    "    if og_grid_code[0] == \"c\":\n",
    "        grid_code = \"b\" + str(og_grid_code[1])\n",
    "    else:\n",
    "        grid_code = og_grid_code\n",
    "    pts = gp.generate_grid_points(sensor_pts_xyz_arr, grid_code, building,\n",
    "                                        radiance_surface_key)\n",
    "    # pts = module_ctr_points\n",
    "    \n",
    "    fig, axe = pplt.subplots(refwidth=8, refaspect=x_dim / y_dim)\n",
    "    ax =axe[0]\n",
    "\n",
    "    if grid_code[0]=='a':\n",
    "        ax.scatter(pts[:,0], pts[:,2], c='k', s=10)\n",
    "    elif grid_code[0]=='b':\n",
    "        if og_grid_code[1]==\"2\":\n",
    "            ax.scatter(pts[:,0]-min_x+cell_dim, pts[:,2]-min_z+cell_dim, c='k', s=10)\n",
    "        else:\n",
    "            ax.scatter(pts[:,0]-min_x, pts[:,2]-min_z, c='k', s=10)\n",
    "    else:\n",
    "        if og_grid_code[1]==\"2\":\n",
    "            ax.scatter(pts[:,0]-min_x+cell_dim, pts[:,2]-min_z+cell_dim, c='k', s=10)\n",
    "        else:\n",
    "            ax.scatter(pts[:,0]-min_x, pts[:,2]-min_z, c='k', s=10)\n",
    "            \n",
    "    ax.minorticks_off()\n",
    "    ax.grid(linestyle='dashed')\n",
    "    tickbool = False\n",
    "    ax.tick_params(direction='in',pad=4.25,\n",
    "                left=tickbool,top=tickbool,right=tickbool,bottom=tickbool,\n",
    "                )\n",
    "    ax.format(xlim=(0,19.11),\n",
    "            ylim=(0,max_z),\n",
    "            xlocator=1.5925,\n",
    "            ylocator=0.9825,\n",
    "            xticklabels='none',\n",
    "            yticklabels='none')\n",
    "    if og_grid_code[0]!=\"c\":\n",
    "        ax.grid(False)\n",
    "    fig.savefig(f\"/Users/jmccarty/GitHub/papers/modeling_framework_paper/figures/frameworks/grid_{og_grid_code}.png\",dpi=144)\n"
   ]
  },
  {
   "cell_type": "markdown",
   "metadata": {},
   "source": [
    "# Shading Masks"
   ]
  },
  {
   "cell_type": "code",
   "execution_count": 4,
   "metadata": {},
   "outputs": [],
   "source": [
    "shape_library = ['rows', 'columns', 'rectangle', 'triangle', 'circle', 'ellipse', 'random_squares_small','random_squares_large', 'organic']"
   ]
  },
  {
   "cell_type": "code",
   "execution_count": 25,
   "metadata": {},
   "outputs": [
    {
     "data": {
      "text/plain": [
       "array([0.2, 0.4, 0.6, 0.8])"
      ]
     },
     "execution_count": 25,
     "metadata": {},
     "output_type": "execute_result"
    }
   ],
   "source": [
    "np.arange(0.2,0.91,0.20)"
   ]
  },
  {
   "cell_type": "code",
   "execution_count": 32,
   "metadata": {},
   "outputs": [
    {
     "name": "stderr",
     "output_type": "stream",
     "text": [
      "/opt/homebrew/Caskroom/miniforge/base/envs/py311/lib/python3.11/site-packages/proplot/figure.py:469: MatplotlibDeprecationWarning: savefig() got unexpected keyword argument \"facecolor\" which is no longer supported as of 3.3 and will become an error two minor releases later\n",
      "  return func(self, *args, **kwargs)\n",
      "/opt/homebrew/Caskroom/miniforge/base/envs/py311/lib/python3.11/site-packages/proplot/figure.py:469: MatplotlibDeprecationWarning: savefig() got unexpected keyword argument \"edgecolor\" which is no longer supported as of 3.3 and will become an error two minor releases later\n",
      "  return func(self, *args, **kwargs)\n",
      "/opt/homebrew/Caskroom/miniforge/base/envs/py311/lib/python3.11/site-packages/proplot/figure.py:469: MatplotlibDeprecationWarning: savefig() got unexpected keyword argument \"orientation\" which is no longer supported as of 3.3 and will become an error two minor releases later\n",
      "  return func(self, *args, **kwargs)\n",
      "/opt/homebrew/Caskroom/miniforge/base/envs/py311/lib/python3.11/site-packages/proplot/figure.py:469: MatplotlibDeprecationWarning: savefig() got unexpected keyword argument \"bbox_inches_restore\" which is no longer supported as of 3.3 and will become an error two minor releases later\n",
      "  return func(self, *args, **kwargs)\n"
     ]
    },
    {
     "data": {
      "image/png": "[encoded data removed]",
      "text/plain": [
       "Figure(nrows=1, ncols=1, refaspect=2.78, refwidth=8.0)"
      ]
     },
     "metadata": {
      "image/png": {
       "height": 300,
       "width": 812
      }
     },
     "output_type": "display_data"
    }
   ],
   "source": [
    "for shape in shape_library[0:1]:\n",
    "        mask_arr = sm.generate_mask_arr(\n",
    "                sensor_pts_xyz_arr, shape, coverage_factor=.10)\n",
    "        coverage_ranges = np.arange(0.2,0.91,0.20)#np.arange(0.05,0.95,0.10)\n",
    "        shape_coverages = np.flipud(coverage_ranges.reshape(-1,1)).flatten()\n",
    "        fig, axe = pplt.subplots(refwidth=8, refaspect=mask_arr.shape[1] / mask_arr.shape[0])\n",
    "        ax = axe[0]\n",
    "\n",
    "        for n,shape_coverage in enumerate(shape_coverages):\n",
    "                \n",
    "                mask_arr = sm.generate_mask_arr(\n",
    "                        sensor_pts_xyz_arr, shape, coverage_factor=shape_coverage)\n",
    "                if n==len(coverage_ranges)-1:\n",
    "                        alpha = np.where(mask_arr == 0, 0.0, 1.0)  # Set alpha to 0 for cells with value 0, otherwise 1\n",
    "                else:        \n",
    "                        alpha = np.where(mask_arr == 0, 0.0, coverage_ranges[n])  # Set alpha to 0 for cells with value 0, otherwise 1\n",
    "                ax.imshow(mask_arr, cmap=\"Greys\", vmin=0, vmax=1,\n",
    "                        origin=\"lower\",alpha=alpha)\n",
    "\n",
    "        ax.minorticks_off()\n",
    "\n",
    "        tickbool = False\n",
    "        ax.tick_params(direction='in',pad=4.25,\n",
    "                left=tickbool,top=tickbool,right=tickbool,bottom=tickbool,\n",
    "                )\n",
    "        ax.format(xlim=(0,mask_arr.shape[1]),\n",
    "                ylim=(0,mask_arr.shape[0]),\n",
    "                # xlocator=1.5925,\n",
    "                # ylocator=0.9825,\n",
    "                xticklabels='none',\n",
    "                yticklabels='none')\n",
    "        ax.grid(False)\n",
    "\n",
    "        # fig.savefig(f\"/Users/jmccarty/GitHub/papers/modeling_framework_paper/figures/masks_less/{shape}_mask_growth.png\",dpi=144)"
   ]
  }
 ],
 "metadata": {
  "kernelspec": {
   "display_name": "py311",
   "language": "python",
   "name": "python3"
  },
  "language_info": {
   "codemirror_mode": {
    "name": "ipython",
    "version": 3
   },
   "file_extension": ".py",
   "mimetype": "text/x-python",
   "name": "python",
   "nbconvert_exporter": "python",
   "pygments_lexer": "ipython3",
   "version": "3.11.3"
  }
 },
 "nbformat": 4,
 "nbformat_minor": 2
}
