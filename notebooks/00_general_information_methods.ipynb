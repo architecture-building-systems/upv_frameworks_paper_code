{
 "cells": [
  {
   "cell_type": "code",
   "execution_count": 1,
   "metadata": {},
   "outputs": [],
   "source": [
    "import pvlib"
   ]
  },
  {
   "cell_type": "code",
   "execution_count": 2,
   "metadata": {},
   "outputs": [
    {
     "data": {
      "text/plain": [
       "{'Technology': 'Mono-c-Si',\n",
       " 'Bifacial': 0,\n",
       " 'STC': 235.2,\n",
       " 'PTC': 211.9,\n",
       " 'A_c': 1.573,\n",
       " 'Length': 1.618,\n",
       " 'Width': 0.972,\n",
       " 'N_s': 60,\n",
       " 'I_sc_ref': 8.6,\n",
       " 'V_oc_ref': 37.0,\n",
       " 'I_mp_ref': 7.84,\n",
       " 'V_mp_ref': 30.0,\n",
       " 'alpha_sc': 0.003784,\n",
       " 'beta_oc': -0.12173,\n",
       " 'T_NOCT': 45.4,\n",
       " 'a_ref': 1.572369,\n",
       " 'I_L_ref': 8.628778,\n",
       " 'I_o_ref': 4.956246e-10,\n",
       " 'R_s': 0.300444,\n",
       " 'R_sh_ref': 89.785065,\n",
       " 'Adjust': 14.428038,\n",
       " 'gamma_r': -0.458,\n",
       " 'BIPV': 'N',\n",
       " 'Version': 'SAM 2018.11.11 r2',\n",
       " 'Date': '1/3/2019'}"
      ]
     },
     "execution_count": 2,
     "metadata": {},
     "output_type": "execute_result"
    }
   ],
   "source": [
    "pvlib.pvsystem.retrieve_sam(\"CECMod\")['Sharp_NU_U235F2'].to_dict()"
   ]
  }
 ],
 "metadata": {
  "kernelspec": {
   "display_name": "py311",
   "language": "python",
   "name": "python3"
  },
  "language_info": {
   "codemirror_mode": {
    "name": "ipython",
    "version": 3
   },
   "file_extension": ".py",
   "mimetype": "text/x-python",
   "name": "python",
   "nbconvert_exporter": "python",
   "pygments_lexer": "ipython3",
   "version": "3.11.3"
  }
 },
 "nbformat": 4,
 "nbformat_minor": 2
}
